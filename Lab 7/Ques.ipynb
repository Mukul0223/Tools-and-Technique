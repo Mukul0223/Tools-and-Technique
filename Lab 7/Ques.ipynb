{
 "cells": [
  {
   "cell_type": "code",
   "execution_count": null,
   "metadata": {},
   "outputs": [],
   "source": [
    "# Write a NumPy program to create a structured array from given student name, height, age and their data types. Now sort by age, then height if age are equal.\n",
    "import pandas as ps\n",
    "my_dataset = {'cars': [\"BMW\", \"Volvo\", \"Ford\"],'passings': [3, 7, 2]\n",
    "}\n",
    "myvar = ps.DataFrame(my_dataset)\n",
    "\n",
    "print(myvar)"
   ]
  },
  {
   "cell_type": "code",
   "execution_count": null,
   "metadata": {},
   "outputs": [],
   "source": [
    "#Input COde\n",
    "n=int(input(\"Enter a number: \"))\n",
    "print('number:',n)"
   ]
  }
 ],
 "metadata": {
  "kernelspec": {
   "display_name": "base",
   "language": "python",
   "name": "python3"
  },
  "language_info": {
   "codemirror_mode": {
    "name": "ipython",
    "version": 3
   },
   "file_extension": ".py",
   "mimetype": "text/x-python",
   "name": "python",
   "nbconvert_exporter": "python",
   "pygments_lexer": "ipython3",
   "version": "3.10.9"
  },
  "orig_nbformat": 4
 },
 "nbformat": 4,
 "nbformat_minor": 2
}
