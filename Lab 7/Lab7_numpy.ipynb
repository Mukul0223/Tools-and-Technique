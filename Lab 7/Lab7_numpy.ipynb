{
 "cells": [
  {
   "cell_type": "code",
   "execution_count": 2,
   "id": "fc1f6c6f",
   "metadata": {},
   "outputs": [
    {
     "name": "stdout",
     "output_type": "stream",
     "text": [
      "[('Alice', 19, 5.5) ('Max', 20, 5.6) ('Tom', 20, 5.7) ('Dave', 21, 5.9)]\n"
     ]
    }
   ],
   "source": [
    "# Write a NumPy program to create a structured array from given student name, height, age and their data types. Now sort by age, then height if age are equal.\n",
    "import numpy as np\n",
    "students_dtype=[('name','U10'),('age',int),('height',float)]\n",
    "students_data=[('Alice',19,5.5),('Max',20,5.6),('Dave',21,5.9),('Tom',20,5.7)]\n",
    "students=np.array(students_data,dtype=students_dtype)\n",
    "student_sort=np.sort(students,order=['age','height'])\n",
    "print(student_sort)"
   ]
  },
  {
   "cell_type": "code",
   "execution_count": 3,
   "id": "520417e7",
   "metadata": {},
   "outputs": [
    {
     "name": "stdout",
     "output_type": "stream",
     "text": [
      "Original array: [4 2 1 5 3]\n",
      "Sorted indices: [2 1 4 0 3]\n"
     ]
    }
   ],
   "source": [
    "# Write a NumPy program to get the indices of the sorted elements of a given array.\n",
    "import numpy as np\n",
    "arr = np.array([4, 2, 1, 5, 3])\n",
    "sorted_indices=np.argsort(arr)\n",
    "print(\"Original array:\", arr)\n",
    "print(\"Sorted indices:\", sorted_indices)"
   ]
  },
  {
   "cell_type": "code",
   "execution_count": 4,
   "id": "b0d5374b",
   "metadata": {},
   "outputs": [
    {
     "name": "stdout",
     "output_type": "stream",
     "text": [
      "False\n"
     ]
    }
   ],
   "source": [
    "# Write a NumPy program to test whether none of the elements of a given array is zero.\n",
    "import numpy as np\n",
    "arr=np.array([1,0,3,6])\n",
    "print(np.all(arr))"
   ]
  },
  {
   "cell_type": "code",
   "execution_count": 5,
   "id": "cf94eb64",
   "metadata": {},
   "outputs": [
    {
     "name": "stdout",
     "output_type": "stream",
     "text": [
      "Original array\n",
      "[[85 51]\n",
      " [60 30]]\n",
      "Reverse array\n",
      "[[30 60]\n",
      " [51 85]]\n"
     ]
    }
   ],
   "source": [
    "# Write a NumPy program to swap rows and columns of a given array in reverse order.\n",
    "import numpy as np\n",
    "arr=np.random.randint(10,90,(2,2))\n",
    "print(\"Original array\")\n",
    "print(arr)\n",
    "new_arr=arr[::-1,::-1]\n",
    "print(\"Reverse array\")\n",
    "print(new_arr)"
   ]
  },
  {
   "cell_type": "code",
   "execution_count": 6,
   "id": "2e39f9e6",
   "metadata": {},
   "outputs": [
    {
     "name": "stdout",
     "output_type": "stream",
     "text": [
      "[[ 98 133]\n",
      " [144  56]]\n"
     ]
    }
   ],
   "source": [
    "# Write a NumPy program to multiply two given arrays of same size element- by-element.\n",
    "import numpy as np\n",
    "arr1=np.random.randint(1,10,(2,2))\n",
    "arr2=np.random.randint(10,20,(2,2))\n",
    "print(np.multiply(arr1,arr2))"
   ]
  },
  {
   "cell_type": "code",
   "execution_count": 7,
   "id": "5eeddbde",
   "metadata": {},
   "outputs": [
    {
     "name": "stdout",
     "output_type": "stream",
     "text": [
      "True\n"
     ]
    }
   ],
   "source": [
    "# Write a NumPy program to convert a given list into an array, then again convert it into a list. Check initial list and final list are equal or not.\n",
    "import numpy as np\n",
    "a = [[1, 2], [3, 4]]\n",
    "x = np.array(a)\n",
    "a2 = x.tolist()\n",
    "print(a == a2)"
   ]
  },
  {
   "cell_type": "code",
   "execution_count": 8,
   "id": "d6d09fda",
   "metadata": {},
   "outputs": [
    {
     "name": "stdout",
     "output_type": "stream",
     "text": [
      "[1 2 3 4]\n"
     ]
    }
   ],
   "source": [
    "# Write a NumPy program to convert a list of numeric value into a one- dimensional NumPy array.\n",
    "import numpy as np\n",
    "a = [1,2,3, 4]\n",
    "x = np.asarray(a)\n",
    "print(x)"
   ]
  },
  {
   "cell_type": "code",
   "execution_count": 9,
   "id": "e6688e2d",
   "metadata": {},
   "outputs": [
    {
     "name": "stdout",
     "output_type": "stream",
     "text": [
      "List to array: \n",
      "[1 2 3 4 5 6 7 8]\n",
      "Tuple to array: \n",
      "[[8 4 6]\n",
      " [2 1 3]]\n"
     ]
    }
   ],
   "source": [
    "# Write a NumPy program to convert a list and tuple into arrays.\n",
    "import numpy as np\n",
    "l = [1, 2, 3, 4, 5, 6, 7, 8]\n",
    "print(\"List to array: \")\n",
    "print(np.asarray(l))\n",
    "t = ([8, 4, 6], [2, 1, 3])\n",
    "print(\"Tuple to array: \")\n",
    "print(np.asarray(t))"
   ]
  },
  {
   "cell_type": "code",
   "execution_count": 10,
   "id": "114c3275",
   "metadata": {},
   "outputs": [
    {
     "name": "stdout",
     "output_type": "stream",
     "text": [
      "[10 20 30]\n"
     ]
    }
   ],
   "source": [
    "# Write a NumPy program to get the unique elements of an array.\n",
    "import numpy as np\n",
    "x = np.array([10, 10, 20, 20, 30, 30])\n",
    "print(np.unique(x))"
   ]
  },
  {
   "cell_type": "code",
   "execution_count": 11,
   "id": "427d42ea",
   "metadata": {},
   "outputs": [
    {
     "name": "stdout",
     "output_type": "stream",
     "text": [
      "Original array\n",
      "[1, 2, 3, 4]\n",
      "Repeating 2 times\n",
      "[1 2 3 4 1 2 3 4]\n"
     ]
    }
   ],
   "source": [
    "# Write a NumPy program to construct an array by repeating.\n",
    "import numpy as np\n",
    "a = [1, 2, 3, 4]\n",
    "print(\"Original array\")\n",
    "print(a)\n",
    "print(\"Repeating 2 times\")\n",
    "x = np.tile(a, 2)\n",
    "print(x)"
   ]
  },
  {
   "cell_type": "code",
   "execution_count": null,
   "id": "bac258d5",
   "metadata": {},
   "outputs": [],
   "source": []
  }
 ],
 "metadata": {
  "kernelspec": {
   "display_name": "Python 3 (ipykernel)",
   "language": "python",
   "name": "python3"
  },
  "language_info": {
   "codemirror_mode": {
    "name": "ipython",
    "version": 3
   },
   "file_extension": ".py",
   "mimetype": "text/x-python",
   "name": "python",
   "nbconvert_exporter": "python",
   "pygments_lexer": "ipython3",
   "version": "3.10.9"
  }
 },
 "nbformat": 4,
 "nbformat_minor": 5
}
